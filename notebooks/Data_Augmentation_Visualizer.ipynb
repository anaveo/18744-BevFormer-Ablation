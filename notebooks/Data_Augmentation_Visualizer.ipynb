{
 "cells": [
  {
   "cell_type": "markdown",
   "metadata": {
    "id": "UbXkUQWFLBRF"
   },
   "source": [
    "# Weather Augmentation Visualizer Demo"
   ]
  },
  {
   "cell_type": "markdown",
   "metadata": {
    "id": "VMg74_LaLL55"
   },
   "source": [
    "Om Anavekar (oanaveka)<br>\n",
    "Autonomous Driving S25<br>\n",
    "3/2/2025<br>"
   ]
  },
  {
   "cell_type": "markdown",
   "metadata": {
    "id": "695K5zs36a48"
   },
   "source": [
    "### Libraries"
   ]
  },
  {
   "cell_type": "code",
   "execution_count": null,
   "metadata": {},
   "outputs": [],
   "source": [
    "import sys\n",
    "import os\n",
    "\n",
    "# Add the project root (parent directory) to sys.path\n",
    "sys.path.append(os.path.abspath('..'))"
   ]
  },
  {
   "cell_type": "code",
   "execution_count": null,
   "metadata": {},
   "outputs": [],
   "source": [
    "# !pip install \"imgaug==0.4.0\" \"imageio<3\" \"numpy<=1.23\""
   ]
  },
  {
   "cell_type": "code",
   "execution_count": null,
   "metadata": {
    "execution": {
     "iopub.execute_input": "2025-03-02T02:57:32.892095Z",
     "iopub.status.busy": "2025-03-02T02:57:32.891782Z",
     "iopub.status.idle": "2025-03-02T02:57:41.165731Z",
     "shell.execute_reply": "2025-03-02T02:57:41.164813Z",
     "shell.execute_reply.started": "2025-03-02T02:57:32.892068Z"
    },
    "id": "_oCzGBTh6xjL",
    "trusted": true
   },
   "outputs": [],
   "source": [
    "import random\n",
    "from PIL import Image\n",
    "import numpy as np\n",
    "from nuscenes.nuscenes import NuScenes\n",
    "import imgaug.augmenters as iaa\n",
    "import matplotlib.pyplot as plt"
   ]
  },
  {
   "cell_type": "markdown",
   "metadata": {},
   "source": [
    "### Config"
   ]
  },
  {
   "cell_type": "code",
   "execution_count": null,
   "metadata": {},
   "outputs": [],
   "source": [
    "config = {\n",
    "    'version': 'v1.0-mini',\n",
    "    'dataroot': '/scratch/nuscenes_v1-0_mini',\n",
    "    'rain_prob': 0.5,\n",
    "    'snow_prob': 0.3,\n",
    "    'fog_prob': 0.2,\n",
    "    'rain_intensity': 0.7,  # currently unused, retained for potential future control\n",
    "    'snow_intensity': 0.5,\n",
    "    'fog_intensity': 0.6,\n",
    "    'clouds': True,\n",
    "    'cloud_intensity': 0.3,\n",
    "    'contrast_reduction': True,\n",
    "    'contrast_factor': 0.8\n",
    "}"
   ]
  },
  {
   "cell_type": "code",
   "execution_count": null,
   "metadata": {},
   "outputs": [],
   "source": [
    "# Set random seet\n",
    "random.seed(42)"
   ]
  },
  {
   "cell_type": "code",
   "execution_count": null,
   "metadata": {},
   "outputs": [],
   "source": [
    "def get_weather_augmenters(cfg):\n",
    "    aug_list = []\n",
    "\n",
    "    if cfg['rain_prob'] > 0 and random.random() < cfg['rain_prob']:\n",
    "        aug_list.append(iaa.Rain())\n",
    "\n",
    "    if cfg['snow_prob'] > 0 and random.random() < cfg['snow_prob']:\n",
    "        aug_list.append(iaa.Snowflakes())\n",
    "\n",
    "    if cfg['fog_prob'] > 0 and random.random() < cfg['fog_prob']:\n",
    "        # Fog intensity is simulated by repetition\n",
    "        fog_repeats = int(1 + cfg['fog_intensity'] * 3)\n",
    "        aug_list.append(iaa.Sequential([iaa.Fog()] * fog_repeats))\n",
    "\n",
    "    if cfg.get('clouds', False):\n",
    "        cloud_repeats = int(1 + cfg['cloud_intensity'] * 5)\n",
    "        aug_list.append(iaa.Sequential([iaa.Clouds()] * cloud_repeats))\n",
    "\n",
    "    if cfg.get('contrast_reduction', False):\n",
    "        aug_list.append(iaa.LinearContrast(cfg['contrast_factor']))\n",
    "\n",
    "    return iaa.Sequential(aug_list)\n"
   ]
  },
  {
   "cell_type": "code",
   "execution_count": null,
   "metadata": {},
   "outputs": [],
   "source": [
    "# ---------------------- Show Utility -----------------------------------\n",
    "def show_transformation_result(original, transformed):\n",
    "    fig, axs = plt.subplots(1, 2, figsize=(12, 6))\n",
    "    axs[0].imshow(original)\n",
    "    axs[0].set_title(\"Original Image\")\n",
    "    axs[0].axis(\"off\")\n",
    "    axs[1].imshow(transformed)\n",
    "    axs[1].set_title(\"Augmented Image\")\n",
    "    axs[1].axis(\"off\")\n",
    "    plt.tight_layout()\n",
    "    plt.show()"
   ]
  },
  {
   "cell_type": "code",
   "execution_count": null,
   "metadata": {},
   "outputs": [],
   "source": [
    "# ---------------------- Main Script -------------------------------------\n",
    "# Load nuScenes\n",
    "nusc = NuScenes(version=config['version'], dataroot=config['dataroot'], verbose=True)\n",
    "\n",
    "# Random sample + random camera\n",
    "sample = nusc.sample[random.randint(0, len(nusc.sample) - 1)]\n",
    "cam_list = ['CAM_FRONT', 'CAM_FRONT_RIGHT', 'CAM_BACK_RIGHT', 'CAM_BACK', 'CAM_BACK_LEFT', 'CAM_FRONT_LEFT']\n",
    "cam_token = sample['data'][random.choice(cam_list)]\n",
    "\n",
    "# Load image\n",
    "img_path = nusc.get_sample_data_path(cam_token)\n",
    "original_img = Image.open(img_path).convert('RGB')\n",
    "original_np = np.array(original_img)\n",
    "\n",
    "# Apply augmentation\n",
    "weather_aug = get_weather_augmenters(config)\n",
    "augmented_np = weather_aug(image=original_np)\n",
    "augmented_img = Image.fromarray(augmented_np)\n",
    "\n",
    "# Show result\n",
    "show_transformation_result(original_np, augmented_np)"
   ]
  }
 ],
 "metadata": {
  "accelerator": "GPU",
  "colab": {
   "gpuType": "T4",
   "provenance": []
  },
  "kaggle": {
   "accelerator": "nvidiaTeslaT4",
   "dataSources": [
    {
     "databundleVersionId": 11055270,
     "sourceId": 91656,
     "sourceType": "competition"
    },
    {
     "isSourceIdPinned": true,
     "modelId": 252451,
     "modelInstanceId": 230685,
     "sourceId": 269565,
     "sourceType": "modelInstanceVersion"
    },
    {
     "isSourceIdPinned": true,
     "modelId": 254748,
     "modelInstanceId": 233027,
     "sourceId": 272173,
     "sourceType": "modelInstanceVersion"
    },
    {
     "isSourceIdPinned": true,
     "modelId": 254768,
     "modelInstanceId": 233047,
     "sourceId": 272196,
     "sourceType": "modelInstanceVersion"
    },
    {
     "isSourceIdPinned": true,
     "modelId": 254929,
     "modelInstanceId": 233206,
     "sourceId": 272394,
     "sourceType": "modelInstanceVersion"
    }
   ],
   "dockerImageVersionId": 30919,
   "isGpuEnabled": true,
   "isInternetEnabled": true,
   "language": "python",
   "sourceType": "notebook"
  },
  "kernelspec": {
   "display_name": "bevformer_ablation",
   "language": "python",
   "name": "python3"
  },
  "language_info": {
   "codemirror_mode": {
    "name": "ipython",
    "version": 3
   },
   "file_extension": ".py",
   "mimetype": "text/x-python",
   "name": "python",
   "nbconvert_exporter": "python",
   "pygments_lexer": "ipython3",
   "version": "3.8.20"
  }
 },
 "nbformat": 4,
 "nbformat_minor": 4
}
